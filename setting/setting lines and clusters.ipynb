{
 "cells": [
  {
   "cell_type": "code",
   "execution_count": null,
   "id": "f9d4980b",
   "metadata": {},
   "outputs": [],
   "source": [
    "\"\"\"\n",
    "生成圆形分布区域\n",
    "\"\"\"\n",
    "\n",
    "nl = int(input(\"Number of clusters to add: \\n\"))\n",
    "\n",
    "dict_clinfo = dict()\n",
    "\n",
    "for i in range(nl): \n",
    "    \n",
    "    print(\"# \" + str(i))\n",
    "    xc = int(input(\"Center point x: \\n\"))\n",
    "    yc = int(input(\"Center point y: \\n\"))\n",
    "    radius = float(input(\"Radius: \\n\"))\n",
    "    print(\"Area: \"+ str(radius**2))\n",
    "    num = int(input(\"Number of points: \\n\"))\n",
    "    \n",
    "    dict_clinfo[i] = {\"center\": (xc,yc), \"radius\": radius, \"scale\": num}"
   ]
  },
  {
   "cell_type": "code",
   "execution_count": null,
   "id": "1c8474fd",
   "metadata": {
    "scrolled": true
   },
   "outputs": [],
   "source": [
    "print(dict_clinfo)"
   ]
  },
  {
   "cell_type": "code",
   "execution_count": null,
   "id": "d8286bde",
   "metadata": {},
   "outputs": [],
   "source": [
    "\"\"\"\n",
    "生成线段分布区域\n",
    "\"\"\"\n",
    "\n",
    "nl = int(input(\"Number of lines to add: \\n\"))\n",
    "\n",
    "dict_lineinfo = dict()\n",
    "\n",
    "for i in range(nl): \n",
    "    \n",
    "    print(\"# \" + str(i))\n",
    "    xs = int(input(\"Start point x: \\n\"))\n",
    "    ys = int(input(\"Start point y: \\n\"))\n",
    "    xe = int(input(\"End point x: \\n\"))\n",
    "    ye = int(input(\"End point y: \\n\"))\n",
    "    print(\"Length: \"+ str(((xe-xs)**2+(ye-ys)**2)**0.5))\n",
    "    num = int(input(\"Number of points: \\n\"))\n",
    "    \n",
    "    dict_lineinfo[i] = {\"start\": (xs,ys), \"end\": (xe, ye), \"scale\": num}"
   ]
  },
  {
   "cell_type": "code",
   "execution_count": null,
   "id": "a9726fdc",
   "metadata": {},
   "outputs": [],
   "source": [
    "print(dict_lineinfo)"
   ]
  },
  {
   "cell_type": "code",
   "execution_count": null,
   "id": "934b8c31",
   "metadata": {},
   "outputs": [],
   "source": [
    "\"\"\"\n",
    "画图\n",
    "\"\"\"\n",
    "\n",
    "import matplotlib.pyplot as plt\n",
    "from matplotlib.patches import Circle\n",
    "\n",
    "fig, ax = plt.subplots(1, 1, figsize=(6, 6))\n",
    "\n",
    "ax.scatter(2500, 2500, color = \"black\", marker = \"^\")\n",
    "\n",
    "for i in range(len(dict_clinfo)):\n",
    "\n",
    "    xc, yc = dict_clinfo[i][\"center\"]\n",
    "    r = dict_clinfo[i][\"radius\"] # 上面两个不能合并\n",
    "    ax.scatter(xc, yc, color = \"black\", marker = \"*\")\n",
    "    cir = Circle(xy = (xc, yc), radius = r, alpha = 0.1, color = \"grey\")\n",
    "    ax.add_patch(cir)\n",
    "\n",
    "\n",
    "for i in range(len(dict_lineinfo)):\n",
    "\n",
    "    x0, y0 = dict_lineinfo[i][\"start\"]\n",
    "    x1, y1 = dict_lineinfo[i][\"end\"]\n",
    "\n",
    "    ax.plot([x0, x1], [y0, y1], color = \"blue\", linewidth = 10, alpha = 0.1)\n",
    "    \n",
    "plt.axis('scaled')    \n",
    "\n",
    "    \n",
    "plt.show()"
   ]
  },
  {
   "cell_type": "code",
   "execution_count": null,
   "id": "0ff3410c",
   "metadata": {},
   "outputs": [],
   "source": [
    "\"\"\"\n",
    "存储\n",
    "\"\"\"\n",
    "\n",
    "import pickle\n",
    "\n",
    "with open(\"lines.txt\", \"wb\") as f:\n",
    "    \n",
    "    pickle.dump(dict_lineinfo, f)\n",
    "\n",
    "import pickle\n",
    "\n",
    "with open(\"clusters.txt\", \"wb\") as f:\n",
    "    \n",
    "    pickle.dump(dict_clinfo, f)"
   ]
  },
  {
   "cell_type": "code",
   "execution_count": null,
   "id": "5e69a6d6",
   "metadata": {},
   "outputs": [],
   "source": []
  }
 ],
 "metadata": {
  "kernelspec": {
   "display_name": "Python 3 (ipykernel)",
   "language": "python",
   "name": "python3"
  },
  "language_info": {
   "codemirror_mode": {
    "name": "ipython",
    "version": 3
   },
   "file_extension": ".py",
   "mimetype": "text/x-python",
   "name": "python",
   "nbconvert_exporter": "python",
   "pygments_lexer": "ipython3",
   "version": "3.10.10"
  }
 },
 "nbformat": 4,
 "nbformat_minor": 5
}
