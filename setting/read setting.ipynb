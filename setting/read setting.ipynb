{
 "cells": [
  {
   "cell_type": "code",
   "execution_count": null,
   "id": "ed0c6d40",
   "metadata": {},
   "outputs": [],
   "source": [
    "import pickle\n",
    "\n",
    "with open(\"clusters.txt\", \"rb\") as f:\n",
    "    \n",
    "    dict_clinfo = pickle.load(f)\n",
    "    \n",
    "with open(\"lines.txt\", \"rb\") as f:\n",
    "    \n",
    "    dict_lineinfo = pickle.load(f)"
   ]
  },
  {
   "cell_type": "code",
   "execution_count": null,
   "id": "7c2d456b",
   "metadata": {},
   "outputs": [],
   "source": [
    "print(dict_clinfo)"
   ]
  },
  {
   "cell_type": "code",
   "execution_count": null,
   "id": "38df6992",
   "metadata": {
    "scrolled": false
   },
   "outputs": [],
   "source": [
    "print(dict_lineinfo)"
   ]
  },
  {
   "cell_type": "code",
   "execution_count": null,
   "id": "e7e68e4d",
   "metadata": {},
   "outputs": [],
   "source": [
    "import matplotlib.pyplot as plt\n",
    "from matplotlib.patches import Circle\n",
    "\n",
    "fig, ax = plt.subplots(1, 1, figsize=(6, 6))\n",
    "\n",
    "ax.scatter(2500, 2500, color = \"black\", marker = \"^\")\n",
    "\n",
    "for i in range(len(dict_clinfo)):\n",
    "\n",
    "    xc, yc = dict_clinfo[i][\"center\"]\n",
    "    r = dict_clinfo[i][\"radius\"] # 上面两个不能合并\n",
    "    ax.scatter(xc, yc, color = \"black\", marker = \"*\")\n",
    "    cir = Circle(xy = (xc, yc), radius = r, alpha = 0.1, color = \"grey\")\n",
    "    ax.add_patch(cir)\n",
    "\n",
    "\n",
    "for i in range(len(dict_lineinfo)):\n",
    "\n",
    "    x0, y0 = dict_lineinfo[i][\"start\"]\n",
    "    x1, y1 = dict_lineinfo[i][\"end\"]\n",
    "\n",
    "    ax.plot([x0, x1], [y0, y1], color = \"blue\", linewidth = 10, alpha = 0.1)\n",
    "    \n",
    "ax.set_xlim(0, 5000)\n",
    "ax.set_ylim(0, 5000) \n",
    "    \n",
    "plt.show()"
   ]
  }
 ],
 "metadata": {
  "kernelspec": {
   "display_name": "Python 3 (ipykernel)",
   "language": "python",
   "name": "python3"
  },
  "language_info": {
   "codemirror_mode": {
    "name": "ipython",
    "version": 3
   },
   "file_extension": ".py",
   "mimetype": "text/x-python",
   "name": "python",
   "nbconvert_exporter": "python",
   "pygments_lexer": "ipython3",
   "version": "3.10.10"
  }
 },
 "nbformat": 4,
 "nbformat_minor": 5
}
