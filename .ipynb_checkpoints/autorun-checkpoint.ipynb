{
 "cells": [
  {
   "cell_type": "code",
   "execution_count": null,
   "id": "60bf8317",
   "metadata": {},
   "outputs": [],
   "source": [
    "Nruns = 30"
   ]
  },
  {
   "cell_type": "code",
   "execution_count": null,
   "id": "f658cbe8",
   "metadata": {},
   "outputs": [],
   "source": [
    "\"\"\"\n",
    "创建存储每次实验的st的文件\n",
    "\"\"\"\n",
    "\n",
    "import pickle\n",
    "\n",
    "# 存储每次的停车点坐标\n",
    "dict_stops = {}\n",
    "\n",
    "with open(\"st.txt\", \"wb\") as f: # 带自动创建功能\n",
    "    \n",
    "    pickle.dump(dict_stops, f)\n",
    "\n",
    "# 存储每次的聚类内平均距离\n",
    "dict_md = {}\n",
    "\n",
    "with open(\"md.txt\", \"wb\") as f: # 带自动创建功能\n",
    "    \n",
    "    pickle.dump(dict_md, f)\n",
    "\n",
    "# 存储每次的时间距离result\n",
    "dict_results = {}\n",
    "\n",
    "with open(\"results.txt\", \"wb\") as f: # 带自动创建功能\n",
    "    \n",
    "    pickle.dump(dict_results, f)"
   ]
  },
  {
   "cell_type": "code",
   "execution_count": null,
   "id": "2db6ec03",
   "metadata": {},
   "outputs": [],
   "source": [
    "from datetime import datetime\n",
    "\n",
    "now = datetime.now()\n",
    "\n",
    "current_time = now.strftime(\"%H:%M:%S\")\n",
    "\n",
    "print( current_time)"
   ]
  },
  {
   "cell_type": "code",
   "execution_count": null,
   "id": "d2c9941b",
   "metadata": {
    "scrolled": true
   },
   "outputs": [],
   "source": [
    "\"\"\"\n",
    "自动运行\n",
    "\"\"\"\n",
    "\n",
    "for i in range(Nruns):\n",
    "    \n",
    "    #%run 13.py\n",
    "    #%run 13-random.py\n",
    "\n",
    "    # 注意13.py里面有响铃"
   ]
  },
  {
   "cell_type": "code",
   "execution_count": null,
   "id": "1e02219e",
   "metadata": {},
   "outputs": [],
   "source": [
    "from datetime import datetime\n",
    "\n",
    "now = datetime.now()\n",
    "\n",
    "current_time = now.strftime(\"%H:%M:%S\")\n",
    "\n",
    "print(current_time)"
   ]
  },
  {
   "cell_type": "code",
   "execution_count": null,
   "id": "ad909190",
   "metadata": {},
   "outputs": [],
   "source": [
    "\"\"\"\n",
    "  _____       _   _                 \n",
    " |  __ \\     | | | |                \n",
    " | |__) |   _| |_| |__   ___  _ __  \n",
    " |  ___/ | | | __| '_ \\ / _ \\| '_ \\ \n",
    " | |   | |_| | |_| | | | (_) | | | |\n",
    " |_|    \\__, |\\__|_| |_|\\___/|_| |_|\n",
    "         __/ |                      \n",
    "        |___/                                                           \n",
    "\"\"\"\n",
    "pass\n",
    "############## 从这里开始run below ####################"
   ]
  },
  {
   "cell_type": "code",
   "execution_count": null,
   "id": "8795f5a3",
   "metadata": {},
   "outputs": [],
   "source": [
    "\"\"\"\n",
    "读取存储文件，每次的st坐标\n",
    "\"\"\"\n",
    "\n",
    "import pickle\n",
    "\n",
    "with open(\"st.txt\", \"rb\") as f:\n",
    "    \n",
    "    dict_stops = pickle.load(f) # 运行id：停车点集合\n",
    "    \n",
    "len(dict_stops)"
   ]
  },
  {
   "cell_type": "code",
   "execution_count": null,
   "id": "e3ec031a",
   "metadata": {},
   "outputs": [],
   "source": [
    "\"\"\"\n",
    "创建st的集合\n",
    "\"\"\"\n",
    "\n",
    "set_stops = set()\n",
    "\n",
    "for s in dict_stops.values(): # 读取各次实验的集合并update\n",
    "    \n",
    "    set_stops.update(s)"
   ]
  },
  {
   "cell_type": "code",
   "execution_count": null,
   "id": "fa4359cb",
   "metadata": {},
   "outputs": [],
   "source": [
    "\"\"\"\n",
    "统计st频次\n",
    "\"\"\"\n",
    "\n",
    "dict_stfq = dict() # 点坐标：频次\n",
    "\n",
    "for stp in set_stops:\n",
    "    \n",
    "    count = 0\n",
    "    for se in dict_stops.values(): # 读取各次实验的集合\n",
    "        if stp in se:\n",
    "            count += 1\n",
    "            \n",
    "    dict_stfq[stp] = count"
   ]
  },
  {
   "cell_type": "code",
   "execution_count": null,
   "id": "404692e8",
   "metadata": {
    "scrolled": true
   },
   "outputs": [],
   "source": [
    "\"\"\"\n",
    "st频次排序，字典翻转（以frq为index建立list）\n",
    "\"\"\"\n",
    "\n",
    "from copy import deepcopy\n",
    "\n",
    "set_frqvs = set(dict_stfq.values())\n",
    "\n",
    "list_frq = []\n",
    "\n",
    "nrank = len(set_frqvs) # 一共有多少种频次\n",
    "\n",
    "set_temp = deepcopy(set_frqvs) # 用于逐次找到最大并且删除的集合\n",
    "\n",
    "list_rank = [] # 点列表，不含频次\n",
    "\n",
    "while len(set_temp) != 0:\n",
    "    \n",
    "    frqv = max(set_temp) # 取剩余集合中最大频次\n",
    "    \n",
    "    list_temp = []\n",
    "    \n",
    "    for k in dict_stfq.keys():\n",
    "        \n",
    "        if dict_stfq[k] == frqv: # 如果有字典值等于当前频次\n",
    "            \n",
    "            list_temp.append(k) # 记录坐标\n",
    "            \n",
    "    list_rank.append(list_temp)\n",
    "        \n",
    "    set_temp.remove(frqv)\n",
    "    \n",
    "    list_frq.append(frqv)\n",
    "    \n",
    "    print(\"############# Rank \" + str(len(set_frqvs)-len(set_temp)))\n",
    "    print(\"Frequency:\")\n",
    "    print(frqv)\n",
    "    print(\"Number of points:\")\n",
    "    print(len(list_temp))\n",
    "    #print(\"Points:\")\n",
    "    #print(list_temp)"
   ]
  },
  {
   "cell_type": "code",
   "execution_count": null,
   "id": "90e06c05",
   "metadata": {
    "scrolled": false
   },
   "outputs": [],
   "source": [
    "\"\"\"\n",
    "画频次分布图\n",
    "\"\"\"\n",
    "\n",
    "import matplotlib.pyplot as plt\n",
    "\n",
    "fig, ax = plt.subplots(1, 1, figsize=(6, 6))\n",
    "\n",
    "x = [list_frq[i] for i in range(nrank)]\n",
    "y = [len(list_rank[i]) for i in range(nrank)]\n",
    "\n",
    "ax.bar(x,y)\n",
    "\n",
    "ax.plot(x,y,color = \"red\")\n",
    "\n",
    "for i in range(nrank):\n",
    "    ax.text(list_frq[i], len(list_rank[i]) + 20, str(len(list_rank[i])), size = \"small\", ha = \"center\")\n",
    "    \n",
    "plt.xlabel('frequency')\n",
    "\n",
    "plt.ylabel(\"number of points\")\n",
    "\n",
    "plt.show()"
   ]
  },
  {
   "cell_type": "code",
   "execution_count": null,
   "id": "20f29c7f",
   "metadata": {},
   "outputs": [],
   "source": [
    "\"\"\"\n",
    "记录当前rank1\n",
    "\"\"\"\n",
    "\n",
    "import pickle\n",
    "\n",
    "with open(\"rank1s.txt\", \"rb\") as f:\n",
    "    \n",
    "    rank1s = pickle.load(f)\n",
    "    \n",
    "rank1s.append(list_rank[0])\n",
    "    \n",
    "with open(\"rank1s.txt\", \"wb\") as f:\n",
    "    \n",
    "    pickle.dump(rank1s, f)\n",
    "    "
   ]
  },
  {
   "cell_type": "code",
   "execution_count": null,
   "id": "220f2567",
   "metadata": {},
   "outputs": [],
   "source": [
    "\"\"\"\n",
    "读取cluster和line设置\n",
    "\"\"\"\n",
    "\n",
    "import pickle\n",
    "\n",
    "with open(\"clusters.txt\", \"rb\") as f:\n",
    "    \n",
    "    dict_clinfo = pickle.load(f)\n",
    "    \n",
    "with open(\"lines.txt\", \"rb\") as f:\n",
    "    \n",
    "    dict_lineinfo = pickle.load(f)\n",
    "    "
   ]
  },
  {
   "cell_type": "code",
   "execution_count": null,
   "id": "c041137c",
   "metadata": {},
   "outputs": [],
   "source": [
    "\"\"\"\n",
    "画图\n",
    "\"\"\"\n",
    "\n",
    "# 要绘制第几到第几等？\n",
    "# 例如：lr=1，hr=4，绘制从2到4等\n",
    "\n",
    "def plotrank(lr, hr):\n",
    "    \n",
    "    rrange = hr - lr\n",
    "    \n",
    "    if hr > nrank:\n",
    "        \n",
    "        return\n",
    "\n",
    "    import matplotlib.pyplot as plt\n",
    "    from matplotlib.patches import Circle\n",
    "\n",
    "    fig, ax = plt.subplots(1, 1, figsize=(7, 7))\n",
    "\n",
    "    cm = plt.cm.get_cmap('hsv')\n",
    "\n",
    "    for i in range(lr, hr):\n",
    "\n",
    "        for ii in range(len(list_rank[i])): # 直接对上\n",
    "            \n",
    "            x = list_rank[i][ii][0]\n",
    "            y = list_rank[i][ii][1]\n",
    "            ax.scatter(x, y, color = cm((i - lr) / rrange), marker = \"o\" , alpha = 0.6, zorder = hr - lr - i, s = 50) \n",
    "            #ax.scatter(x, y, color = \"gray\", marker = \"o\" , alpha = 0.5, s = 50) \n",
    "            #ax.text(x, y, str(ii), size = \"xx-small\", ha = \"center\", va = \"center\", zorder = 10)\n",
    "\n",
    "    ax.scatter(2500, 2500, color = \"black\", marker = \"^\", zorder = hr - lr)\n",
    "\n",
    "    for i in range(len(dict_clinfo)):\n",
    "\n",
    "        xc, yc = dict_clinfo[i][\"center\"]\n",
    "        r = dict_clinfo[i][\"radius\"] # 上面两个不能合并\n",
    "        ax.scatter(xc, yc, color = \"black\", marker = \"*\", zorder = hr - lr)\n",
    "        cir = Circle(xy = (xc, yc), radius = r, alpha = 0.1, color = \"grey\")\n",
    "        ax.add_patch(cir)\n",
    "\n",
    "\n",
    "    for i in range(len(dict_lineinfo)):\n",
    "\n",
    "        x0, y0 = dict_lineinfo[i][\"start\"]\n",
    "        x1, y1 = dict_lineinfo[i][\"end\"]\n",
    "\n",
    "        ax.plot([x0, x1], [y0, y1], color = \"blue\", linewidth = 10, alpha = 0.1)\n",
    "\n",
    "\n",
    "    from matplotlib.lines import Line2D\n",
    "    dummies = []\n",
    "    for i in range(lr, hr):\n",
    "        dummies.append(Line2D([], [], linestyle='None', color = cm((i - lr) / rrange), alpha = 0.6, marker = \"o\", label = \"Rank \" + str(i+1)))\n",
    "    ax.legend(handles = dummies)\n",
    "    \n",
    "    plt.show()\n",
    "    \n",
    "    return"
   ]
  },
  {
   "cell_type": "code",
   "execution_count": null,
   "id": "dc20a134",
   "metadata": {
    "scrolled": false
   },
   "outputs": [],
   "source": [
    "plotrank(0,2)"
   ]
  },
  {
   "cell_type": "code",
   "execution_count": null,
   "id": "d832ad6d",
   "metadata": {},
   "outputs": [],
   "source": [
    "plotrank(2,4)"
   ]
  },
  {
   "cell_type": "code",
   "execution_count": null,
   "id": "22003a5a",
   "metadata": {},
   "outputs": [],
   "source": [
    "plotrank(4,8)"
   ]
  },
  {
   "cell_type": "code",
   "execution_count": null,
   "id": "fa9185cd",
   "metadata": {},
   "outputs": [],
   "source": [
    "plotrank(6,10)"
   ]
  },
  {
   "cell_type": "code",
   "execution_count": null,
   "id": "1b781367",
   "metadata": {},
   "outputs": [],
   "source": [
    "plotrank(10,14)"
   ]
  },
  {
   "cell_type": "code",
   "execution_count": null,
   "id": "dfd69149",
   "metadata": {},
   "outputs": [],
   "source": []
  },
  {
   "cell_type": "code",
   "execution_count": null,
   "id": "cde170f5",
   "metadata": {},
   "outputs": [],
   "source": [
    "# 存储本次停车点排行\n",
    "\n",
    "import pickle\n",
    "    \n",
    "with open(\"list_rank.txt\", \"wb\") as f:\n",
    "    \n",
    "    pickle.dump(list_rank, f)"
   ]
  },
  {
   "cell_type": "code",
   "execution_count": null,
   "id": "fb58ea69",
   "metadata": {},
   "outputs": [],
   "source": [
    "list_rank"
   ]
  },
  {
   "cell_type": "code",
   "execution_count": null,
   "id": "6d984288",
   "metadata": {},
   "outputs": [],
   "source": [
    "list_slst = [\n",
    "(1680, 1640),(1680, 3840),(2500, 3360),(2500, 2300),(1500, 1020),(2840, 1960),(1980, 2360),(2280, 4700),(1320, 3660),(1420, 2060),(3340, 2940)]"
   ]
  },
  {
   "cell_type": "code",
   "execution_count": null,
   "id": "5ff5f79c",
   "metadata": {},
   "outputs": [],
   "source": [
    "# 存储挑选的停车点\n",
    "\n",
    "import pickle\n",
    "    \n",
    "with open(\"slst.txt\", \"wb\") as f:\n",
    "    \n",
    "    pickle.dump(list_slst, f)"
   ]
  },
  {
   "cell_type": "code",
   "execution_count": null,
   "id": "c2a292d6",
   "metadata": {},
   "outputs": [],
   "source": [
    "\"\"\"\n",
    "画出挑选的停车点\n",
    "\"\"\"\n",
    "\n",
    "import matplotlib.pyplot as plt\n",
    "from matplotlib.patches import Circle\n",
    "\n",
    "fig, ax = plt.subplots(1, 1, figsize=(7, 7))\n",
    "\n",
    "for (x, y) in list_slst:\n",
    "\n",
    "    ax.scatter(x, y, color = \"gray\", marker = \"o\" , alpha = 0.6, zorder = 0, s = 50) \n",
    "\n",
    "ax.scatter(2500, 2500, color = \"black\", marker = \"^\")\n",
    "\n",
    "for i in range(len(dict_clinfo)):\n",
    "\n",
    "    xc, yc = dict_clinfo[i][\"center\"]\n",
    "    r = dict_clinfo[i][\"radius\"] # 上面两个不能合并\n",
    "    ax.scatter(xc, yc, color = \"black\", marker = \"*\")\n",
    "    cir = Circle(xy = (xc, yc), radius = r, alpha = 0.1, color = \"grey\")\n",
    "    ax.add_patch(cir)\n",
    "\n",
    "\n",
    "for i in range(len(dict_lineinfo)):\n",
    "\n",
    "    x0, y0 = dict_lineinfo[i][\"start\"]\n",
    "    x1, y1 = dict_lineinfo[i][\"end\"]\n",
    "\n",
    "    ax.plot([x0, x1], [y0, y1], color = \"blue\", linewidth = 10, alpha = 0.1)\n",
    "\n",
    "plt.show()"
   ]
  },
  {
   "cell_type": "code",
   "execution_count": null,
   "id": "fb8b386d",
   "metadata": {},
   "outputs": [],
   "source": [
    "import pickle\n",
    "\n",
    "with open(\"md.txt\", \"rb\") as f:\n",
    "    \n",
    "    dict_md = pickle.load(f)\n",
    "    \n",
    "with open(\"results.txt\", \"rb\") as f:\n",
    "    \n",
    "    dict_results = pickle.load(f)"
   ]
  },
  {
   "cell_type": "code",
   "execution_count": null,
   "id": "b23b957d",
   "metadata": {},
   "outputs": [],
   "source": [
    "sumd = sum(dict_md.values())\n",
    "count =  len(dict_md)\n",
    "sumd/count"
   ]
  },
  {
   "cell_type": "code",
   "execution_count": null,
   "id": "f2f6b290",
   "metadata": {},
   "outputs": [],
   "source": [
    "sumt1, sumt2, sumdd1, sumdd2, sumdw2, sumrt1, sumrt2 = 0,0,0,0,0,0,0\n",
    "for v in dict_results.values():\n",
    "    sumt1 += v[0]\n",
    "    sumt2 += v[1]\n",
    "    sumdd1 += v[2]\n",
    "    sumdd2 += v[3]\n",
    "    sumdw2 += v[4]\n",
    "    sumrt1 += v[5]\n",
    "    sumrt2 += v[6]\n",
    "    \n",
    "print(sumt1/count)\n",
    "print(sumt2/count)\n",
    "print(sumdd1/count)\n",
    "print(sumdd2/count)\n",
    "print(sumdw2/count)\n",
    "print(sumrt1/count)\n",
    "print(sumrt2/count)"
   ]
  }
 ],
 "metadata": {
  "kernelspec": {
   "display_name": "Python 3 (ipykernel)",
   "language": "python",
   "name": "python3"
  },
  "language_info": {
   "codemirror_mode": {
    "name": "ipython",
    "version": 3
   },
   "file_extension": ".py",
   "mimetype": "text/x-python",
   "name": "python",
   "nbconvert_exporter": "python",
   "pygments_lexer": "ipython3",
   "version": "3.10.10"
  }
 },
 "nbformat": 4,
 "nbformat_minor": 5
}
